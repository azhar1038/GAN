{
  "nbformat": 4,
  "nbformat_minor": 0,
  "metadata": {
    "colab": {
      "name": "1_data_process.ipynb",
      "provenance": [],
      "collapsed_sections": []
    },
    "kernelspec": {
      "name": "python3",
      "display_name": "Python 3"
    }
  },
  "cells": [
    {
      "cell_type": "code",
      "metadata": {
        "colab": {
          "base_uri": "https://localhost:8080/"
        },
        "id": "Zq6I6CziqBYi",
        "outputId": "6257e27e-ed2a-450a-d974-964fef561cfa"
      },
      "source": [
        "!wget http://efrosgans.eecs.berkeley.edu/pix2pix/datasets/maps.tar.gz"
      ],
      "execution_count": null,
      "outputs": [
        {
          "output_type": "stream",
          "text": [
            "--2020-12-08 09:25:06--  http://efrosgans.eecs.berkeley.edu/pix2pix/datasets/maps.tar.gz\n",
            "Resolving efrosgans.eecs.berkeley.edu (efrosgans.eecs.berkeley.edu)... 128.32.189.73\n",
            "Connecting to efrosgans.eecs.berkeley.edu (efrosgans.eecs.berkeley.edu)|128.32.189.73|:80... connected.\n",
            "HTTP request sent, awaiting response... 200 OK\n",
            "Length: 250242400 (239M) [application/x-gzip]\n",
            "Saving to: ‘maps.tar.gz’\n",
            "\n",
            "maps.tar.gz         100%[===================>] 238.65M  2.53MB/s    in 3m 10s  \n",
            "\n",
            "2020-12-08 09:28:17 (1.25 MB/s) - ‘maps.tar.gz’ saved [250242400/250242400]\n",
            "\n"
          ],
          "name": "stdout"
        }
      ]
    },
    {
      "cell_type": "code",
      "metadata": {
        "id": "BnEZ8gYfqxO-"
      },
      "source": [
        "!tar -xf maps.tar.gz"
      ],
      "execution_count": null,
      "outputs": []
    },
    {
      "cell_type": "code",
      "metadata": {
        "colab": {
          "base_uri": "https://localhost:8080/"
        },
        "id": "Rcwx5B1xrqZ4",
        "outputId": "0eb8a7f6-084e-47dd-94c9-f134107e140c"
      },
      "source": [
        "!ls"
      ],
      "execution_count": null,
      "outputs": [
        {
          "output_type": "stream",
          "text": [
            "maps  maps.tar.gz  sample_data\n"
          ],
          "name": "stdout"
        }
      ]
    },
    {
      "cell_type": "code",
      "metadata": {
        "id": "IwE1hoBKr0TV"
      },
      "source": [
        "from os import listdir"
      ],
      "execution_count": null,
      "outputs": []
    },
    {
      "cell_type": "code",
      "metadata": {
        "id": "rZcwgFchr6O_"
      },
      "source": [
        "files = listdir(\"maps/train\")"
      ],
      "execution_count": null,
      "outputs": []
    },
    {
      "cell_type": "code",
      "metadata": {
        "id": "YsHESErLsCKO"
      },
      "source": [
        "from tensorflow.keras.preprocessing.image import load_img\n",
        "from tensorflow.keras.preprocessing.image import img_to_array"
      ],
      "execution_count": null,
      "outputs": []
    },
    {
      "cell_type": "code",
      "metadata": {
        "id": "qDlE2ROBsO-C"
      },
      "source": [
        "from tqdm import tqdm"
      ],
      "execution_count": null,
      "outputs": []
    },
    {
      "cell_type": "code",
      "metadata": {
        "id": "TIdnO-04s3-P"
      },
      "source": [
        "src_image=[]\n",
        "tar_image=[]"
      ],
      "execution_count": null,
      "outputs": []
    },
    {
      "cell_type": "code",
      "metadata": {
        "colab": {
          "base_uri": "https://localhost:8080/"
        },
        "id": "k8xJaUkTstj6",
        "outputId": "04c42598-cfac-4b04-beb9-2723d040869c"
      },
      "source": [
        "for i in tqdm(range(len(files))):\n",
        "  pixels = load_img(\"maps/train/\"+files[i], target_size=(256, 512))\n",
        "  pixels = img_to_array(pixels)\n",
        "  sat_image, map_image = pixels[:, :256], pixels[:, 256:]\n",
        "  src_image.append(sat_image)\n",
        "  tar_image.append(map_image)"
      ],
      "execution_count": null,
      "outputs": [
        {
          "output_type": "stream",
          "text": [
            "100%|██████████| 1096/1096 [00:13<00:00, 80.96it/s]\n"
          ],
          "name": "stderr"
        }
      ]
    },
    {
      "cell_type": "code",
      "metadata": {
        "id": "b32_dKgYtzZg"
      },
      "source": [
        "from numpy import asarray\n",
        "\n",
        "src_image = asarray(src_image, dtype=\"uint8\")\n",
        "tar_image = asarray(tar_image, dtype=\"uint8\")"
      ],
      "execution_count": null,
      "outputs": []
    },
    {
      "cell_type": "code",
      "metadata": {
        "colab": {
          "base_uri": "https://localhost:8080/"
        },
        "id": "-Fo7haPduEEe",
        "outputId": "829a9765-4d09-4291-8349-79a8fe366d6a"
      },
      "source": [
        "print(src_image.shape, tar_image.shape)"
      ],
      "execution_count": null,
      "outputs": [
        {
          "output_type": "stream",
          "text": [
            "(1096, 256, 256, 3) (1096, 256, 256, 3)\n"
          ],
          "name": "stdout"
        }
      ]
    },
    {
      "cell_type": "code",
      "metadata": {
        "id": "FJ6tAI5UuYKh"
      },
      "source": [
        "from numpy import savez_compressed\n",
        "\n",
        "savez_compressed(\"maps.npz\", src_image, tar_image)"
      ],
      "execution_count": null,
      "outputs": []
    },
    {
      "cell_type": "code",
      "metadata": {
        "colab": {
          "base_uri": "https://localhost:8080/"
        },
        "id": "Hv3MmC8OvKtW",
        "outputId": "f31c9bf6-91fc-4016-d1af-ff1138159cc3"
      },
      "source": [
        "!ls -sh"
      ],
      "execution_count": null,
      "outputs": [
        {
          "output_type": "stream",
          "text": [
            "total 452M\n",
            "4.0K maps  213M maps.npz  239M maps.tar.gz  4.0K sample_data\n"
          ],
          "name": "stdout"
        }
      ]
    },
    {
      "cell_type": "code",
      "metadata": {
        "colab": {
          "base_uri": "https://localhost:8080/"
        },
        "id": "PXAH-iYtvP_b",
        "outputId": "d9124ec2-9373-4597-ce6c-23a5f5153ce2"
      },
      "source": [
        "from google.colab import drive\n",
        "drive.mount(\"/content/gdrive\")"
      ],
      "execution_count": 1,
      "outputs": [
        {
          "output_type": "stream",
          "text": [
            "Mounted at /content/gdrive\n"
          ],
          "name": "stdout"
        }
      ]
    },
    {
      "cell_type": "code",
      "metadata": {
        "colab": {
          "base_uri": "https://localhost:8080/"
        },
        "id": "ufYdW2bAXCxg",
        "outputId": "3128e562-b237-4d05-c437-bd1e6ff81bae"
      },
      "source": [
        "!mkdir \"gdrive/MyDrive/7th Sem Project\""
      ],
      "execution_count": 2,
      "outputs": [
        {
          "output_type": "stream",
          "text": [
            "mkdir: cannot create directory ‘gdrive/MyDrive/7th Sem Project’: File exists\n"
          ],
          "name": "stdout"
        }
      ]
    },
    {
      "cell_type": "code",
      "metadata": {
        "id": "bUIdDDxBwb3V"
      },
      "source": [
        "!cp maps.npz \"gdrive/MyDrive/7th Sem Project/maps.npz\""
      ],
      "execution_count": null,
      "outputs": []
    },
    {
      "cell_type": "code",
      "metadata": {
        "colab": {
          "base_uri": "https://localhost:8080/"
        },
        "id": "BDZmqaIwwECR",
        "outputId": "520d072f-ca3f-4421-e522-da7b19e15f56"
      },
      "source": [
        "!ls \"gdrive/My Drive/7th Sem Project\""
      ],
      "execution_count": null,
      "outputs": [
        {
          "output_type": "stream",
          "text": [
            "maps.npz\n"
          ],
          "name": "stdout"
        }
      ]
    },
    {
      "cell_type": "code",
      "metadata": {
        "id": "fDRlpLa-wsXL"
      },
      "source": [
        ""
      ],
      "execution_count": null,
      "outputs": []
    }
  ]
}